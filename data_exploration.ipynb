{
 "cells": [
  {
   "cell_type": "markdown",
   "metadata": {},
   "source": [
    "# Data Exploration for Machine Learning Education Projects:\n",
    "\n",
    " * ## Image Captioning Problem\n",
    "\n",
    " * ## Text Generation Problem\n",
    "\n",
    "### *Disclaimer:*\n",
    "* #### *Hardware:*\n",
    "* ###### CPU: Intel Core i5-7300HQ\n",
    "* ###### RAM: 16 GB\n",
    "* ###### GPU: Nvidia GTX 1050 | 2GB\n",
    "* #### *Keras Backend: Tensorflow 2.1 GPU*\n",
    "* #### *On this kernel, all models are already trained and loaded; however, Training specs are displayed for evidence purposes and metric visualization.* "
   ]
  },
  {
   "cell_type": "markdown",
   "metadata": {},
   "source": [
    "## Image Captioning Problem \n",
    "\n",
    "### Six JSON files.\n",
    "- #### ```captions``` are the main files for this problem\n",
    "- #### ```instances``` and ```person_keypoints``` have more input concerning object detection and segmentation; therefore, these might provide a seminal mapping to ovelap contentes among text generation and object detection. This way, text generation for any given image parcially stops being agnostic. \n",
    "\n",
    "### So, in order to understand the hierarchy within each JSON file, we explore several keys in the encoded dictionaries. \n"
   ]
  },
  {
   "cell_type": "code",
   "execution_count": 1,
   "metadata": {},
   "outputs": [],
   "source": [
    "import json\n",
    "import os\n",
    "\n",
    "from IPython.core.interactiveshell import InteractiveShell # All outputs are displayed for every cell\n",
    "InteractiveShell.ast_node_interactivity = \"all\""
   ]
  },
  {
   "cell_type": "code",
   "execution_count": 2,
   "metadata": {},
   "outputs": [
    {
     "data": {
      "text/plain": [
       "['captions_train2014.json',\n",
       " 'captions_val2014.json',\n",
       " 'instances_train2014.json',\n",
       " 'instances_val2014.json',\n",
       " 'person_keypoints_train2014.json',\n",
       " 'person_keypoints_val2014.json']"
      ]
     },
     "execution_count": 2,
     "metadata": {},
     "output_type": "execute_result"
    },
    {
     "name": "stdout",
     "output_type": "stream",
     "text": [
      "captions_train2014.json dict_keys(['info', 'images', 'licenses', 'annotations'])\n",
      "\t images 82783\n",
      "\t\t dict_keys(['license', 'file_name', 'coco_url', 'height', 'width', 'date_captured', 'flickr_url', 'id'])\n",
      "\t annotations 414113\n",
      "\t\t dict_keys(['image_id', 'id', 'caption'])\n",
      "captions_val2014.json dict_keys(['info', 'images', 'licenses', 'annotations'])\n",
      "\t images 40504\n",
      "\t\t dict_keys(['license', 'file_name', 'coco_url', 'height', 'width', 'date_captured', 'flickr_url', 'id'])\n",
      "\t annotations 202654\n",
      "\t\t dict_keys(['image_id', 'id', 'caption'])\n",
      "instances_train2014.json dict_keys(['info', 'images', 'licenses', 'annotations', 'categories'])\n",
      "\t images 82783\n",
      "\t\t dict_keys(['license', 'file_name', 'coco_url', 'height', 'width', 'date_captured', 'flickr_url', 'id'])\n",
      "\t annotations 604907\n",
      "\t\t dict_keys(['segmentation', 'area', 'iscrowd', 'image_id', 'bbox', 'category_id', 'id'])\n",
      "instances_val2014.json dict_keys(['info', 'images', 'licenses', 'annotations', 'categories'])\n",
      "\t images 40504\n",
      "\t\t dict_keys(['license', 'file_name', 'coco_url', 'height', 'width', 'date_captured', 'flickr_url', 'id'])\n",
      "\t annotations 291875\n",
      "\t\t dict_keys(['segmentation', 'area', 'iscrowd', 'image_id', 'bbox', 'category_id', 'id'])\n",
      "person_keypoints_train2014.json dict_keys(['info', 'images', 'licenses', 'annotations', 'categories'])\n",
      "\t images 82783\n",
      "\t\t dict_keys(['license', 'file_name', 'coco_url', 'height', 'width', 'date_captured', 'flickr_url', 'id'])\n",
      "\t annotations 185316\n",
      "\t\t dict_keys(['segmentation', 'num_keypoints', 'area', 'iscrowd', 'keypoints', 'image_id', 'bbox', 'category_id', 'id'])\n",
      "person_keypoints_val2014.json dict_keys(['info', 'images', 'licenses', 'annotations', 'categories'])\n",
      "\t images 40504\n",
      "\t\t dict_keys(['license', 'file_name', 'coco_url', 'height', 'width', 'date_captured', 'flickr_url', 'id'])\n",
      "\t annotations 88153\n",
      "\t\t dict_keys(['segmentation', 'num_keypoints', 'area', 'iscrowd', 'keypoints', 'image_id', 'bbox', 'category_id', 'id'])\n"
     ]
    }
   ],
   "source": [
    "f = 'codelab/annotations/'\n",
    "\n",
    "os.listdir(f)\n",
    "\n",
    "ks = ['images', 'annotations']\n",
    "for file in os.listdir(f):\n",
    "    with open(f+file, 'r') as rf:\n",
    "        d = json.load(rf)\n",
    "    print(file, d.keys())\n",
    "    \n",
    "    for k in ks: \n",
    "        print('\\t', k, len(d[k]))\n",
    "        print('\\t\\t', d[k][0].keys())"
   ]
  },
  {
   "cell_type": "code",
   "execution_count": null,
   "metadata": {},
   "outputs": [],
   "source": []
  },
  {
   "cell_type": "code",
   "execution_count": null,
   "metadata": {},
   "outputs": [],
   "source": []
  },
  {
   "cell_type": "markdown",
   "metadata": {},
   "source": [
    "## Training Data Summary\n",
    "\n",
    "- ### 82,783 images;\n",
    "- ### each one with either five (82586), six (196) or seven (1) captions.\n",
    "- ### there are 414,113 captions.\n",
    "- ### Originally, there are no letters with special symbols (ticks, primes, diaresis) (English Language)\n",
    "- ### A homologated corpus to lower cases and deleting punctuation marks gives 23,130 unique words.\n",
    "- ### La longest Caption has 49 words, the shortest has 5 words and, on average, captions are 10.45 words long. Hence a positively skewed (right skewed) distribution is in place. \n",
    "- ### Regarding image sizes, the lowest height and width are 51 and 59 pixels respectively; however, maximum height and width are 640 pixels, each. The average width is 578 pixels and the average height is 438.6 pixels. Anyhow, both metrics have quasi-bimodal distributions with peaks aproximately around 500 and 640 pixels, each.\n",
    "\n",
    "## Validation Data Summary\n",
    "\n",
    "- ### 40,504 images;\n",
    "- ### each one with either five (40373), six (128) or seven (3) captions.\n",
    "- ### there are 202,654 captions.\n",
    "- ### Originally, there are no letters with special symbols (ticks, primes, diaresis) (English Language)\n",
    "- ### A homologated corpus to lower cases and deleting punctuation marks gives 17,350 unique words.\n",
    "- ### The longest Caption has 50 words, the shortest has 6 words and, on average, captions are 10.45 words long. Hence a positively skewed (right skewed) distribution is in place. \n",
    "- ### Regarding image sizes, the lowest height and width are 111 and 120 pixels respectively; however, maximum height and width are 640 pixels, each. The average width is 576.5 pixels and the average height is 485 pixels. Anyhow, both metrics have quasi-bimodal distributions with peaks aproximately around 470 and 640 pixels, each.\n"
   ]
  },
  {
   "cell_type": "code",
   "execution_count": 8,
   "metadata": {},
   "outputs": [
    {
     "name": "stdout",
     "output_type": "stream",
     "text": [
      "\n",
      "Train keys:  dict_keys(['info', 'images', 'licenses', 'annotations'])\n",
      "\n",
      "Captions: 414113 dict_keys(['image_id', 'id', 'caption'])\n",
      "Images: 82783 dict_keys(['license', 'file_name', 'coco_url', 'height', 'width', 'date_captured', 'flickr_url', 'id'])\n",
      "\n",
      "Validation keys:  dict_keys(['info', 'images', 'licenses', 'annotations'])\n",
      "\n",
      "Captions: 202654 dict_keys(['image_id', 'id', 'caption'])\n",
      "Images: 40504 dict_keys(['license', 'file_name', 'coco_url', 'height', 'width', 'date_captured', 'flickr_url', 'id'])\n"
     ]
    }
   ],
   "source": [
    "#JSON's hierarchy exploration\n",
    "with open(f+'captions_train2014.json', 'r') as rf:\n",
    "    tr_data = json.load(rf)\n",
    "    \n",
    "with open(f+\"captions_val2014.json\", 'r') as rf:\n",
    "    v_data = json.load(rf)\n",
    "    \n",
    "print('\\nTrain keys: ', tr_data.keys())\n",
    "\n",
    "print('\\nCaptions: {}'.format(len(tr_data['annotations'])), tr_data['annotations'][0].keys())\n",
    "print('Images: {}'.format(len(tr_data['images'])), tr_data['images'][0].keys())\n",
    "\n",
    "print('\\nValidation keys: ', v_data.keys())\n",
    "\n",
    "print('\\nCaptions: {}'.format(len(v_data['annotations'])), v_data['annotations'][0].keys())\n",
    "print('Images: {}'.format(len(v_data['images'])), v_data['images'][0].keys())"
   ]
  },
  {
   "cell_type": "code",
   "execution_count": 9,
   "metadata": {},
   "outputs": [],
   "source": [
    "import pandas as pd\n",
    "import numpy as np\n",
    "import matplotlib.pyplot as plt\n",
    "from tqdm import tqdm_notebook as tqdm\n",
    "#import nltk\n",
    "import re\n",
    "\n",
    "from collections import Counter"
   ]
  },
  {
   "cell_type": "code",
   "execution_count": 10,
   "metadata": {},
   "outputs": [],
   "source": [
    "# Json's dictionaries to pandas' Dataframes.\n",
    "\n",
    "tr_caps = pd.DataFrame(tr_data['annotations'])\n",
    "v_caps = pd.DataFrame(v_data['annotations'])\n",
    "\n",
    "tr_imgs = pd.DataFrame(tr_data['images'])\n",
    "v_imgs = pd.DataFrame(v_data['images'])"
   ]
  },
  {
   "cell_type": "code",
   "execution_count": 11,
   "metadata": {},
   "outputs": [
    {
     "name": "stdout",
     "output_type": "stream",
     "text": [
      "Train:  {7: 1, 6: 196, 5: 82586}\n",
      "Val:  {7: 3, 6: 128, 5: 40373}\n"
     ]
    }
   ],
   "source": [
    "# How many captions does every image has?\n",
    "\n",
    "cs = {}\n",
    "for id_, c in Counter(list(tr_caps['image_id'])).most_common():\n",
    "    if c not in cs.keys():\n",
    "        cs[c] = 0\n",
    "    cs[c] += 1\n",
    "print('Train: ', cs)\n",
    "\n",
    "cs = {}\n",
    "for id_, c in Counter(list(v_caps['image_id'])).most_common():\n",
    "    if c not in cs.keys():\n",
    "        cs[c] = 0\n",
    "    cs[c] += 1\n",
    "print('Val: ', cs)"
   ]
  },
  {
   "cell_type": "code",
   "execution_count": 17,
   "metadata": {},
   "outputs": [
    {
     "data": {
      "application/vnd.jupyter.widget-view+json": {
       "model_id": "81b6eaf3c7144cb8a5bdb28403a2689e",
       "version_major": 2,
       "version_minor": 0
      },
      "text/plain": [
       "HBox(children=(IntProgress(value=0, max=414113), HTML(value='')))"
      ]
     },
     "metadata": {},
     "output_type": "display_data"
    },
    {
     "name": "stdout",
     "output_type": "stream",
     "text": [
      "\n",
      "Training\n",
      "Unique Words: 23130\n",
      "Max Number of Words in a Caption: 49\n",
      "Min Number of Words in a Caption: 5\n",
      "Average Number of Words in all captions: 10.458350740015407\n"
     ]
    },
    {
     "data": {
      "application/vnd.jupyter.widget-view+json": {
       "model_id": "1ad4876199a24a2a92008715c1593fd5",
       "version_major": 2,
       "version_minor": 0
      },
      "text/plain": [
       "HBox(children=(IntProgress(value=0, max=202654), HTML(value='')))"
      ]
     },
     "metadata": {},
     "output_type": "display_data"
    },
    {
     "name": "stdout",
     "output_type": "stream",
     "text": [
      "\n",
      "Validation\n",
      "Unique Words: 17350\n",
      "Max Number of Words in a Caption: 50\n",
      "Min Number of Words in a Caption: 6\n",
      "Average Number of Words in all captions: 10.452623683717075\n"
     ]
    },
    {
     "data": {
      "image/png": "[encoded data removed]",
      "text/plain": [
       "<Figure size 432x288 with 2 Axes>"
      ]
     },
     "metadata": {
      "needs_background": "light"
     },
     "output_type": "display_data"
    }
   ],
   "source": [
    "# Data exploration: Captions and Images\n",
    "# NLP preprocessing: Lowercase all captions and erase punctation marks.\n",
    "\n",
    "titles = [ 'Training', 'Validation']\n",
    "for i, caps in enumerate([tr_caps, v_caps]):\n",
    "    w = []\n",
    "    words = ''\n",
    "    lc = caps['caption']\n",
    "    \n",
    "    for cap in tqdm(lc):\n",
    "        w.append(len(cap.split()))\n",
    "        words += ' ' + cap.lower() + ' '\n",
    "        \n",
    "    words = re.split(r'\\W+', words)\n",
    "    words = Counter(words)\n",
    "    \n",
    "    print(titles[i])\n",
    "    print('Unique Words: {}'.format(len(words)))\n",
    "    print('Max Number of Words in a Caption: {}'.format(max(w)))\n",
    "    print('Min Number of Words in a Caption: {}'.format(min(w)))\n",
    "    print('Average Number of Words in all captions: {}'.format(np.mean(np.array(w))))\n",
    "    plt.subplot(1, 2, i+1);\n",
    "    plt.hist(np.array(w));\n",
    "    plt.title('Words per Caption:\\n {} Dist'.format(titles[i]));\n",
    "plt.show();\n",
    "    "
   ]
  },
  {
   "cell_type": "code",
   "execution_count": 36,
   "metadata": {},
   "outputs": [
    {
     "name": "stdout",
     "output_type": "stream",
     "text": [
      "\n",
      " Training \n",
      "             license        height         width             id\n",
      "count  82783.000000  82783.000000  82783.000000   82783.000000\n",
      "mean       2.818054    483.590206    578.045794  290998.758900\n",
      "std        1.511456     96.855347     92.020402  167952.307935\n",
      "min        1.000000     51.000000     59.000000       9.000000\n",
      "25%        1.000000    426.000000    500.000000  144726.000000\n",
      "50%        3.000000    480.000000    640.000000  291797.000000\n",
      "75%        4.000000    512.000000    640.000000  435936.500000\n",
      "max        7.000000    640.000000    640.000000  581921.000000\n",
      "\n",
      " Validation \n",
      "             license        height         width             id\n",
      "count  40504.000000  40504.000000  40504.000000   40504.000000\n",
      "mean       2.826536    485.069944    576.541477  290741.634086\n",
      "std        1.494372     97.766584     91.872464  168164.031110\n",
      "min        1.000000    111.000000    120.000000      42.000000\n",
      "25%        1.000000    426.000000    500.000000  145585.000000\n",
      "50%        3.000000    480.000000    640.000000  290980.000000\n",
      "75%        4.000000    531.000000    640.000000  436397.250000\n",
      "max        7.000000    640.000000    640.000000  581929.000000\n"
     ]
    },
    {
     "data": {
      "image/png": "[encoded data removed]",
      "text/plain": [
       "<Figure size 432x288 with 4 Axes>"
      ]
     },
     "metadata": {
      "needs_background": "light"
     },
     "output_type": "display_data"
    }
   ],
   "source": [
    "#Images descriptive statistics and distributions\n",
    "\n",
    "for i, imgs in enumerate([tr_imgs, v_imgs]):\n",
    "    print('\\n {} \\n'.format(titles[i]), imgs.describe())\n",
    "    \n",
    "    plt.subplot(2,2, 2*i+1);\n",
    "    plt.hist(imgs['height']);\n",
    "    plt.title('Height{}'.format(titles[i]));\n",
    "    plt.subplot(2,2, 2*i+2);\n",
    "    plt.hist(imgs['width']);\n",
    "    plt.title('Width: {}'.format(titles[i]));\n",
    "plt.show();"
   ]
  },
  {
   "cell_type": "markdown",
   "metadata": {},
   "source": [
    "\n",
    "## Data transformation by dint of our preliminary model: Google's Inception V.3™\n",
    "\n",
    "### Training and Validation dictionaries structure: ``` {image_id: list(captions)} ```\n",
    "\n",
    "### Seize this process to transform captions into lowercase, erase punctuation marks and spaces on every string's ends.  \n",
    "\n",
    "### Ascertain that the images are named congruently with the databases. \n",
    "\n",
    "### We find out that training and validation vocabulary has 4,189 words that are NOT shared. Going through a deeper processing, we can ameliorate this discrepancy. For instance, taking some percentage of the vocabulary with higher incidency or changing every word to its morphological root. Here, we'll get rid of all the words that appear only once on the Machine Learning Kernel. \n",
    "\n"
   ]
  },
  {
   "cell_type": "code",
   "execution_count": 37,
   "metadata": {},
   "outputs": [
    {
     "name": "stdout",
     "output_type": "stream",
     "text": [
      "True True\n"
     ]
    }
   ],
   "source": [
    "# ascertain file names are congruent with the databases. \n",
    "\n",
    "imgsTr = tr_imgs['file_name'].to_list()\n",
    "imgsV = v_imgs['file_name'].to_list()\n",
    "\n",
    "imgs_v = os.listdir('codelab/val2014/')\n",
    "imgs_tr = os.listdir('codelab/train2014/')\n",
    "\n",
    "print(set(imgsTr) == set(imgs_tr), set(imgsV) == set(imgs_v))\n",
    "\n",
    "del imgsTr, imgsV, imgs_v, imgs_tr"
   ]
  },
  {
   "cell_type": "code",
   "execution_count": 38,
   "metadata": {},
   "outputs": [
    {
     "data": {
      "application/vnd.jupyter.widget-view+json": {
       "model_id": "bf1d02ea6d7a42f59dad9cd5054e5851",
       "version_major": 2,
       "version_minor": 0
      },
      "text/plain": [
       "HBox(children=(IntProgress(value=0, max=414113), HTML(value='')))"
      ]
     },
     "metadata": {},
     "output_type": "display_data"
    },
    {
     "name": "stdout",
     "output_type": "stream",
     "text": [
      "\n"
     ]
    },
    {
     "data": {
      "application/vnd.jupyter.widget-view+json": {
       "model_id": "af80647ad38b41988ce536f615a56bbf",
       "version_major": 2,
       "version_minor": 0
      },
      "text/plain": [
       "HBox(children=(IntProgress(value=0, max=202654), HTML(value='')))"
      ]
     },
     "metadata": {},
     "output_type": "display_data"
    },
    {
     "name": "stdout",
     "output_type": "stream",
     "text": [
      "\n"
     ]
    },
    {
     "data": {
      "text/plain": [
       "82783"
      ]
     },
     "execution_count": 38,
     "metadata": {},
     "output_type": "execute_result"
    },
    {
     "data": {
      "text/plain": [
       "40504"
      ]
     },
     "execution_count": 38,
     "metadata": {},
     "output_type": "execute_result"
    }
   ],
   "source": [
    "# create dictionaries and preprocess captions\n",
    "\n",
    "tr_captions, v_captions = dict(), dict()\n",
    "\n",
    "for dic, caps in zip([tr_captions, v_captions], [tr_caps, v_caps]):\n",
    "    ids_ = caps['image_id']\n",
    "    for id_ in tqdm(ids_):\n",
    "        lc = caps.loc[caps['image_id'] == id_, 'caption'].to_list()\n",
    "        id_ = str(id_)\n",
    "        while len(id_) < 12:\n",
    "            id_ = '0'+id_\n",
    "        dic[id_] = [' '.join(re.split(r'\\W+', c.lower())).strip() for c in lc]\n",
    "\n",
    "len(tr_captions)\n",
    "len(v_captions)"
   ]
  },
  {
   "cell_type": "code",
   "execution_count": null,
   "metadata": {},
   "outputs": [],
   "source": [
    "InteractiveShell.ast_node_interactivity = \"last\"# all o none"
   ]
  },
  {
   "cell_type": "code",
   "execution_count": 46,
   "metadata": {},
   "outputs": [
    {
     "name": "stdout",
     "output_type": "stream",
     "text": [
      "Tr:  23129 Val:  17349\n",
      "Number of Words Not Shared Among Training and Validation Datasets: 4189\n",
      "Total words: 27318\n"
     ]
    }
   ],
   "source": [
    "# Assess if vocabulary ovelaps between Training and Validation data\n",
    "\n",
    "voc_tr, voc_v = set(), set()\n",
    "\n",
    "for dic, voc in zip([tr_captions, v_captions],[voc_tr, voc_v]):\n",
    "    for k in dic.keys():\n",
    "        [voc.update(cap.split()) for cap in dic[k]]\n",
    "\n",
    "print('Tr: ', len(voc_tr), 'Val: ', len(voc_v))\n",
    "\n",
    "\n",
    "n_voc = list(voc_v - voc_tr)\n",
    "        \n",
    "print('Number of Words Not Shared Among Training and Validation Datasets:', len(n_voc))\n",
    "voc = voc_tr.union(voc_v)\n",
    "print('Total words:', len(voc))"
   ]
  },
  {
   "cell_type": "code",
   "execution_count": null,
   "metadata": {},
   "outputs": [],
   "source": []
  },
  {
   "cell_type": "code",
   "execution_count": 66,
   "metadata": {},
   "outputs": [
    {
     "data": {
      "text/plain": [
       "13261316"
      ]
     },
     "execution_count": 66,
     "metadata": {},
     "output_type": "execute_result"
    }
   ],
   "source": [
    "# Write Caption Files for ML\n",
    "\n",
    "lines = list()\n",
    "for k, caps in tr_captions.items():\n",
    "    [lines.append(k + ' ' + cap) for cap in caps]\n",
    "    \n",
    "con = '\\n'.join(lines)\n",
    "with open('codelab/tr_captions.txt', 'w') as file:\n",
    "    file.write(con)\n",
    "\n",
    "lines = list()\n",
    "for k, caps in v_captions.items():\n",
    "    [lines.append(k + ' ' + cap) for cap in caps]\n",
    "    \n",
    "con = '\\n'.join(lines)\n",
    "with open('codelab/v_captions.txt', 'w') as file:\n",
    "    file.write(con)"
   ]
  },
  {
   "cell_type": "code",
   "execution_count": 50,
   "metadata": {},
   "outputs": [
    {
     "name": "stdout",
     "output_type": "stream",
     "text": [
      "New Tr:  5939 New Val:  5800\n",
      "Number of Words Not Shared Among Training and Validation New Datasets: 585\n",
      "New Total words: 6524\n"
     ]
    }
   ],
   "source": [
    "# provisional code for vocabulary reduction according to an outlier theshold percentage(outlier_th)\n",
    "voc_tr, voc_v = '', ''\n",
    "\n",
    "for k, caps in tr_captions.items():\n",
    "    voc_tr += ' ' + ' '.join(caps) + ' '\n",
    "\n",
    "for k, caps in v_captions.items():\n",
    "    voc_v += ' ' + ' '.join(caps)\n",
    "\n",
    "voc_tr, voc_v = Counter(voc_tr.split()).most_common(), Counter(voc_v.split()).most_common()\n",
    "\n",
    "outlier_th = .99\n",
    "\n",
    "t_tr, t_v = 0, 0\n",
    "for _, c in voc_tr:\n",
    "    t_tr += c\n",
    "\n",
    "for _, c in voc_v:\n",
    "    t_v += c\n",
    "\n",
    "bag_por = 0\n",
    "n_W = 0\n",
    "new_voc_tr, new_voc_v = [], []\n",
    "\n",
    "for w,c in voc_tr:\n",
    "    if bag_por <= outlier_th:\n",
    "        n_W += c\n",
    "        bag_por = n_W/t_tr\n",
    "        new_voc_tr.append(w)\n",
    "    else:\n",
    "        break\n",
    "        \n",
    "bag_por = 0\n",
    "n_W = 0\n",
    "\n",
    "for w,c in voc_v:\n",
    "    if bag_por <= outlier_th:\n",
    "        n_W += c\n",
    "        bag_por = n_W/t_v\n",
    "        new_voc_v.append(w)\n",
    "    else:\n",
    "        break\n",
    "        \n",
    "print('New Tr: ', len(new_voc_tr), 'New Val: ', len(new_voc_v))\n",
    "\n",
    "\n",
    "new_n_voc = list(set(new_voc_v) - set(new_voc_tr))\n",
    "        \n",
    "print('Number of Words Not Shared Among Training and Validation New Datasets:', len(new_n_voc))\n",
    "new_voc = set(new_voc_tr).union(set(new_voc_v))\n",
    "print('New Total words:', len(new_voc))\n"
   ]
  },
  {
   "cell_type": "markdown",
   "metadata": {},
   "source": [
    "## Text Generation Problem\n",
    "\n",
    "### Files: one XLS and two TXT\n",
    "\n",
    "- #### ```health_claim_data_submit.xls``` has 564 headlines \n",
    "- #### ```keywords.txt``` has 270 keywords\n",
    "- #### ```kewwords-test.txt``` has 8 keywords"
   ]
  },
  {
   "cell_type": "markdown",
   "metadata": {},
   "source": [
    "### For the Headlines' database, the corpus has 5791 words , to which 1631 are unique once transformed into lowercase and erasing puntuation.\n",
    "\n",
    "### Joining training and testing keywords (278 words), we assess their presence in the training headlines. The assessment shows that 226 words are not in the database, meaning that the training will not see them if the dataset is left as it is.\n",
    "\n",
    "### To tackle this data deficiency, two strategies were followed:\n",
    "\n",
    "- #### Grab the [New York Times Comments and Headlines](https://www.kaggle.com/aashita/nyt-comments) database and search for the missing keywords on those headlines. If there's an occurence, it will be added to the dataset. \n",
    "- #### Scrap [Reuters Archive for Health News Website](https://www.reuters.com/news/archive/healthNews) searching for the missing keywords on all headlines. Then again, if there's an occurence, it will be added to the dataset. \n"
   ]
  },
  {
   "cell_type": "code",
   "execution_count": 91,
   "metadata": {},
   "outputs": [],
   "source": [
    "import pandas as pd\n",
    "import numpy as np\n",
    "from collections import Counter\n",
    "import re\n",
    "\n",
    "hc_file = \"codelab/health_claim_data_submit.xls\"\n",
    "kw_file = \"codelab/keywords.txt\"\n",
    "test_kw = \"codelab/keywords-test.txt\"\n",
    "\n",
    "InteractiveShell.ast_node_interactivity = \"all\"# last o none"
   ]
  },
  {
   "cell_type": "code",
   "execution_count": 92,
   "metadata": {},
   "outputs": [
    {
     "name": "stdout",
     "output_type": "stream",
     "text": [
      "DataFrame columns:  Index(['news_topic', 'news_title', 'reported_date', 'source',\n",
      "       'health_claim_or_not', 'IV', 'relation', 'DV', 'multiple_IV'],\n",
      "      dtype='object')\n",
      "Number of headlines:  564\n"
     ]
    }
   ],
   "source": [
    "# xls to pandas DataFrame\n",
    "hc = pd.read_excel(hc_file)\n",
    "print('DataFrame columns: ', hc.columns)\n",
    "print('Number of headlines: ', len(hc))"
   ]
  },
  {
   "cell_type": "code",
   "execution_count": 77,
   "metadata": {},
   "outputs": [
    {
     "name": "stdout",
     "output_type": "stream",
     "text": [
      "total words:  5791 unique words:  1631\n"
     ]
    }
   ],
   "source": [
    "# Headlines\n",
    "newts = hc['news_title'].to_list()\n",
    "newts = [' '.join(re.split(r'\\W+', nt.lower().strip())) for nt in newts]\n",
    "nt_words = [word for nt in newts for word in nt.split()]\n",
    "print( 'total words: ', len(nt_words), 'unique words: ', len(set(nt_words)))"
   ]
  },
  {
   "cell_type": "code",
   "execution_count": 78,
   "metadata": {},
   "outputs": [
    {
     "name": "stdout",
     "output_type": "stream",
     "text": [
      "total keywords:  270 unique keywords: 270\n"
     ]
    }
   ],
   "source": [
    "# Training Keywords\n",
    "with open(kw_file, 'r') as f:\n",
    "    kw = f.read()\n",
    "kw = kw.replace(',', '').split('\\n')\n",
    "\n",
    "kw = [' '.join(re.split(r'\\W+', w.lower().strip())) for w in kw]\n",
    "print('total keywords: ', len(kw), 'unique keywords:',  len(set(kw)))"
   ]
  },
  {
   "cell_type": "code",
   "execution_count": 79,
   "metadata": {},
   "outputs": [
    {
     "name": "stdout",
     "output_type": "stream",
     "text": [
      "total testing keywords:  8\n"
     ]
    }
   ],
   "source": [
    "# Testing Keywords\n",
    "with open(test_kw, 'r') as f:\n",
    "    test_kw = f.read()\n",
    "test_kw = test_kw.replace(',', '').split('\\n')\n",
    "print('total testing keywords: ', len(test_kw))"
   ]
  },
  {
   "cell_type": "code",
   "execution_count": 80,
   "metadata": {},
   "outputs": [
    {
     "name": "stdout",
     "output_type": "stream",
     "text": [
      "Number of Words Not Shared Among keywords and training datasets: 226\n"
     ]
    }
   ],
   "source": [
    "# From all keywords, how many are not in the training dataset?\n",
    "kws = kw + test_kw\n",
    "\n",
    "n_kw = list(set(kws) - set(nt_words))\n",
    "print('Number of Words Not Shared Among keywords and training datasets:', len(n_kw))"
   ]
  },
  {
   "cell_type": "code",
   "execution_count": 81,
   "metadata": {},
   "outputs": [
    {
     "name": "stdout",
     "output_type": "stream",
     "text": [
      "All headlines within the archives:  8603\n",
      "Number of Missing Keywords:  278\n",
      "Number of Usable Headlines:  564\n",
      "Number of Missing Keywords After Extraction:  183\n",
      "Number of Usable Headlines After Extraction:  11052\n"
     ]
    }
   ],
   "source": [
    "# New York Times Headlines dataset loading and extracting usable headlines\n",
    "\n",
    "all_headlines = []\n",
    "for filename in os.listdir('Articles/'):\n",
    "    if 'Articles' in filename:\n",
    "        article_df = pd.read_csv('Articles/'+filename) \n",
    "        all_headlines.extend(list(article_df.headline.values))\n",
    "\n",
    "all_headlines = [h for h in all_headlines if h != \"Unknown\"]\n",
    "print('All headlines within the archives: ', len(all_headlines))\n",
    "\n",
    "print('Number of Missing Keywords: ', len(kws))\n",
    "print('Number of Usable Headlines: ', len(newts))\n",
    "\n",
    "\n",
    "for w in kws:\n",
    "    occ = 0\n",
    "    for hl in all_headlines:\n",
    "        if w.strip().lower() in hl.lower():\n",
    "            newts.append(hl)\n",
    "            occ = 1\n",
    "    if occ == 1: kws.remove(w)\n",
    "\n",
    "print('Number of Missing Keywords After Extraction: ', len(kws))\n",
    "print('Number of Usable Headlines After Extraction: ', len(newts))"
   ]
  },
  {
   "cell_type": "code",
   "execution_count": 89,
   "metadata": {},
   "outputs": [
    {
     "name": "stdout",
     "output_type": "stream",
     "text": [
      "Number of Missing Keywords:  183\n",
      "Number of Usable Headlines:  11052\n"
     ]
    },
    {
     "data": {
      "application/vnd.jupyter.widget-view+json": {
       "model_id": "41da060309f34bd2a52d147b2080210c",
       "version_major": 2,
       "version_minor": 0
      },
      "text/plain": [
       "HBox(children=(IntProgress(value=0, max=3276), HTML(value='')))"
      ]
     },
     "metadata": {},
     "output_type": "display_data"
    },
    {
     "name": "stdout",
     "output_type": "stream",
     "text": [
      "\n"
     ]
    },
    {
     "data": {
      "application/vnd.jupyter.widget-view+json": {
       "model_id": "1c33d435befe4556bcd3ed38893f3eee",
       "version_major": 2,
       "version_minor": 0
      },
      "text/plain": [
       "HBox(children=(IntProgress(value=0, max=183), HTML(value='')))"
      ]
     },
     "metadata": {},
     "output_type": "display_data"
    },
    {
     "name": "stdout",
     "output_type": "stream",
     "text": [
      "107\n",
      "Number of Missing Keywords After Extraction:  107\n",
      "Number of Usable Headlines After Extraction:  17131\n"
     ]
    }
   ],
   "source": [
    "# Scrapping Reuters Health News Website (takes around 1:30 hours with WiFi. \n",
    "#                                         Possibly it may be faster with an ethernet cable connection)\n",
    "\n",
    "from bs4 import BeautifulSoup as bs\n",
    "import requests as rq\n",
    "from tqdm.notebook import tqdm\n",
    "\n",
    "url = 'https://www.reuters.com/news/archive/healthNews?view=page&page={}&pageSize=10'\n",
    "\n",
    "reuter_hl = []\n",
    "last_page = 3277\n",
    "for i in tqdm(range(1, last_page)):\n",
    "    s = rq.get(url.format(i)).text\n",
    "    s = bs(s, 'html5lib')\n",
    "    for h in s.find_all('h3'):\n",
    "        new_hl = h.contents[0].strip()\n",
    "        reuter_hl.append(new_hl.lower())\n"
   ]
  },
  {
   "cell_type": "code",
   "execution_count": 99,
   "metadata": {},
   "outputs": [
    {
     "name": "stdout",
     "output_type": "stream",
     "text": [
      "Number of Missing Keywords:  60\n",
      "Number of Usable Headlines:  19288\n"
     ]
    },
    {
     "data": {
      "application/vnd.jupyter.widget-view+json": {
       "model_id": "76e11792821447e6bc6198f63c33e6d1",
       "version_major": 2,
       "version_minor": 0
      },
      "text/plain": [
       "HBox(children=(IntProgress(value=0, max=60), HTML(value='')))"
      ]
     },
     "metadata": {},
     "output_type": "display_data"
    },
    {
     "name": "stdout",
     "output_type": "stream",
     "text": [
      "60\n",
      "Number of Missing Keywords After Extraction:  60\n",
      "Number of Usable Headlines After Extraction:  19288\n"
     ]
    }
   ],
   "source": [
    "print('Number of Missing Keywords: ', len(kws))\n",
    "print('Number of Usable Headlines: ', len(newts))\n",
    "\n",
    "for w in tqdm(kws):\n",
    "    occ = 0\n",
    "    for hl in reuter_hl:\n",
    "        if w.strip().lower() in hl.lower():\n",
    "            newts.append(hl)\n",
    "            reuter_hl.remove(hl)\n",
    "            occ = 1\n",
    "    if occ == 1: kws.remove(w)\n",
    "    print(len(kws), end = '\\r')\n",
    "\n",
    "    \n",
    "print('Number of Missing Keywords After Extraction: ', len(kws))\n",
    "print('Number of Usable Headlines After Extraction: ', len(newts))"
   ]
  },
  {
   "cell_type": "code",
   "execution_count": 110,
   "metadata": {},
   "outputs": [],
   "source": [
    "InteractiveShell.ast_node_interactivity = \"none\"# last o none"
   ]
  },
  {
   "cell_type": "code",
   "execution_count": 112,
   "metadata": {},
   "outputs": [],
   "source": [
    "with open('codelab/newsHL.txt', 'w') as f:\n",
    "    [f.write(line+'\\n') for line in newts]"
   ]
  },
  {
   "cell_type": "code",
   "execution_count": null,
   "metadata": {},
   "outputs": [],
   "source": []
  },
  {
   "cell_type": "code",
   "execution_count": null,
   "metadata": {},
   "outputs": [],
   "source": []
  },
  {
   "cell_type": "code",
   "execution_count": null,
   "metadata": {},
   "outputs": [],
   "source": []
  },
  {
   "cell_type": "code",
   "execution_count": null,
   "metadata": {},
   "outputs": [],
   "source": []
  }
 ],
 "metadata": {
  "kernelspec": {
   "display_name": "Python 3",
   "language": "python",
   "name": "python3"
  },
  "language_info": {
   "codemirror_mode": {
    "name": "ipython",
    "version": 3
   },
   "file_extension": ".py",
   "mimetype": "text/x-python",
   "name": "python",
   "nbconvert_exporter": "python",
   "pygments_lexer": "ipython3",
   "version": "3.7.6"
  }
 },
 "nbformat": 4,
 "nbformat_minor": 2
}
