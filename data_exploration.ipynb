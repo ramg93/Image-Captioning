{
 "cells": [
  {
   "cell_type": "markdown",
   "metadata": {},
   "source": [
    "# Data Exploration for Machine Learning Education Projects:\n",
    "\n",
    " * ## Image Captioning Problem\n",
    "\n",
    "### *Disclaimer:*\n",
    "* #### *Hardware:*\n",
    "* ###### CPU: Intel Core i5-7300HQ\n",
    "* ###### RAM: 16 GB\n",
    "* ###### GPU: Nvidia GTX 1050 | 2GB\n",
    "* #### *Keras Backend: Tensorflow 2.1 GPU*\n",
    "* #### *On this kernel, all models are already trained and loaded; however, Training specs are displayed for evidence purposes and metric visualization.* "
   ]
  },
  {
   "cell_type": "markdown",
   "metadata": {},
   "source": [
    "## Image Captioning Problem \n",
    "\n",
    "### Data Collection\n",
    "\n",
    "#### The next cell creates a .py file which will automatically download the datasets for this project. \n",
    "#### On terminal, inside the appropriate enviornment, run: (It will take between 30 min to two hours, depending on your internet speed and your bandwidth usage)\n",
    "#### ```python coco_data_collection.py``` or ```python3 coco_data_collection.py```, which ever works for you.\n",
    "\n",
    "#### The Data is provided by the Common Objects in Context ([COCO](https://cocodataset.org/#home)) Project; therefore, we have to follow [COCO's Terms of Use](https://cocodataset.org/#termsofuse) and [Flickr's Terms of Use](https://www.flickr.com/creativecommons/) "
   ]
  },
  {
   "cell_type": "code",
   "execution_count": 1,
   "metadata": {},
   "outputs": [],
   "source": [
    "import os \n",
    "folder = 'scripts/'\n",
    "if not os.path.isdir(folder):\n",
    "    os.makedirs(folder)"
   ]
  },
  {
   "cell_type": "code",
   "execution_count": 2,
   "metadata": {},
   "outputs": [
    {
     "name": "stdout",
     "output_type": "stream",
     "text": [
      "Overwriting scripts/coco_data_collection.py\n"
     ]
    }
   ],
   "source": [
    "%%writefile scripts/coco_data_collection.py\n",
    "import wget\n",
    "import os\n",
    "import zipfile\n",
    "from tqdm import tqdm\n",
    "\n",
    "\n",
    "def downloadAndUnzip(url, zipFile, folder):\n",
    "    print(f'working on {zipFile}')\n",
    "    if not os.path.isfile(zipFile):\n",
    "        wget.download(url, zipFile) # download .zip file from url source\n",
    "    if not os.path.isdir(zipFile.replace('.zip','')):\n",
    "        with zipfile.ZipFile(zipFile, 'r') as zip_: # unzip in a given folder\n",
    "            for member in tqdm(zip_.infolist(), desc='Extracting'):\n",
    "                try:\n",
    "                    zip_.extract(member, folder)\n",
    "                except zipfile.error as e:\n",
    "                    pass\n",
    "    print(f'zip file {zipFile} has been downloaded and extracted in {folder}')\n",
    "\n",
    "if __name__ == '__main__':\n",
    "    # create data folder if inexistent\n",
    "    folder = 'data/'\n",
    "    if not os.path.isdir(folder):\n",
    "        os.makedirs(folder)\n",
    "        \n",
    "    urls = ['http://images.cocodataset.org/zips/train2014.zip',\n",
    "            'http://images.cocodataset.org/zips/val2014.zip',\n",
    "            'http://images.cocodataset.org/annotations/annotations_trainval2014.zip'] \n",
    "\n",
    "    zipFiles = ['data/train2014.zip',\n",
    "                'data/val2014.zip',\n",
    "                'data/annotations_trainval2014.zip']\n",
    "    \n",
    "    for url, zipFile in zip(urls, zipFiles):\n",
    "        downloadAndUnzip(url, zipFile, folder)\n",
    "        "
   ]
  },
  {
   "cell_type": "code",
   "execution_count": 3,
   "metadata": {},
   "outputs": [],
   "source": [
    "# run in terminal\n",
    "# !python scripts/coco_data_collection.py"
   ]
  },
  {
   "cell_type": "markdown",
   "metadata": {},
   "source": [
    "### Data Exploration: Summary\n",
    "#### Image files: ``` data/train2014/*``` and ```data/val2014/*```\n",
    "#### JSON files: ``` data/annotations/captions_train2014.json``` and ```data/annotations/captions_val2014.json```\n",
    "\n",
    "#### Train2014 has 82,783 images and Val2014 has 40,504.\n",
    "\n",
    "#### So, in order to understand the hierarchical structure within each JSON file, we have to explore the keys which encode the dictionaries.  \n",
    "\n",
    "#### the main dictionary has five keys: 'info', 'images', 'licenses', 'categories', 'annotations'. The most important ones for this project are 'images' and 'annotations'. \n",
    "\n",
    "#### At least, numerically, both JSON's are consistent with the image folders. Later, it's ascertained that the images are named congruently with the databases. \n",
    "\n",
    "### Training Data Summary\n",
    "\n",
    "- #### 82,783 images;\n",
    "- #### each one with either five (82586), six (196) or seven (1) captions.\n",
    "- #### there are 414,113 captions.\n",
    "- #### Originally, there are no letters with special symbols (ticks, primes, diaresis) (English Language)\n",
    "- #### A homologated corpus to lower cases and deleting punctuation marks gives 23,130 unique words.\n",
    "- #### La longest Caption has 49 words, the shortest has 5 words and, on average, captions are 10.45 words long. Hence a positively skewed (right skewed) distribution is in place. \n",
    "- #### Regarding image sizes, the lowest height and width are 51 and 59 pixels respectively; however, maximum height and width are 640 pixels, each. The average width is 578 pixels and the average height is 438.6 pixels. Anyhow, both metrics have quasi-bimodal distributions with peaks aproximately around 500 and 640 pixels, each.\n",
    "\n",
    "## Validation Data Summary\n",
    "\n",
    "- #### 40,504 images;\n",
    "- #### each one with either five (40373), six (128) or seven (3) captions.\n",
    "- #### there are 202,654 captions.\n",
    "- #### Originally, there are no letters with special symbols (ticks, primes, diaresis) (English Language)\n",
    "- #### A homologated corpus to lower cases and deleting punctuation marks gives 17,350 unique words.\n",
    "- #### The longest Caption has 50 words, the shortest has 6 words and, on average, captions are 10.45 words long. Hence a positively skewed (right skewed) distribution is in place. \n",
    "- #### Regarding image sizes, the lowest height and width are 111 and 120 pixels respectively; however, maximum height and width are 640 pixels, each. The average width is 576.5 pixels and the average height is 485 pixels. Anyhow, both metrics have quasi-bimodal distributions with peaks aproximately around 470 and 640 pixels, each.\n",
    "\n",
    "## All previous conclusions were attained and pondered by running the following three cells. The third one will display a python-formatted report, delving more into each part of this exploration."
   ]
  },
  {
   "cell_type": "code",
   "execution_count": 4,
   "metadata": {},
   "outputs": [],
   "source": [
    "import json\n",
    "import os\n",
    "import pandas as pd\n",
    "import numpy as np\n",
    "import matplotlib.pyplot as plt\n",
    "from tqdm import tqdm_notebook as tqdm\n",
    "import re\n",
    "\n",
    "from collections import Counter"
   ]
  },
  {
   "cell_type": "code",
   "execution_count": 5,
   "metadata": {},
   "outputs": [],
   "source": [
    "from IPython.core.interactiveshell import InteractiveShell # All outputs are displayed for every cell\n",
    "InteractiveShell.ast_node_interactivity = \"none\""
   ]
  },
  {
   "cell_type": "code",
   "execution_count": 6,
   "metadata": {},
   "outputs": [
    {
     "name": "stdout",
     "output_type": "stream",
     "text": [
      "\n",
      " The folder data/annotations has 6 files.\n",
      "\t With file extesions: {'.json'}\n",
      "\n",
      " The folder data/train2014 has 82783 files.\n",
      "\t With file extesions: {'.jpg'}\n",
      "\n",
      " The folder data/val2014 has 40504 files.\n",
      "\t With file extesions: {'.jpg'}\n",
      "\n",
      " For data/annotations/captions_train2014.json file\n",
      "\n",
      "\timages key has 82783 records, \n",
      "\t each with dict_keys(['license', 'file_name', 'coco_url', 'height', 'width', 'date_captured', 'flickr_url', 'id']) attributes\n",
      "\n",
      "\tannotations key has 414113 records, \n",
      "\t each with dict_keys(['image_id', 'id', 'caption']) attributes\n",
      "\n",
      " For data/annotations/captions_val2014.json file\n",
      "\n",
      "\timages key has 40504 records, \n",
      "\t each with dict_keys(['license', 'file_name', 'coco_url', 'height', 'width', 'date_captured', 'flickr_url', 'id']) attributes\n",
      "\n",
      "\tannotations key has 202654 records, \n",
      "\t each with dict_keys(['image_id', 'id', 'caption']) attributes\n",
      "\n",
      " For data/annotations/instances_train2014.json file\n",
      "\n",
      "\timages key has 82783 records, \n",
      "\t each with dict_keys(['license', 'file_name', 'coco_url', 'height', 'width', 'date_captured', 'flickr_url', 'id']) attributes\n",
      "\n",
      "\tannotations key has 604907 records, \n",
      "\t each with dict_keys(['segmentation', 'area', 'iscrowd', 'image_id', 'bbox', 'category_id', 'id']) attributes\n",
      "\n",
      " For data/annotations/instances_val2014.json file\n",
      "\n",
      "\timages key has 40504 records, \n",
      "\t each with dict_keys(['license', 'file_name', 'coco_url', 'height', 'width', 'date_captured', 'flickr_url', 'id']) attributes\n",
      "\n",
      "\tannotations key has 291875 records, \n",
      "\t each with dict_keys(['segmentation', 'area', 'iscrowd', 'image_id', 'bbox', 'category_id', 'id']) attributes\n",
      "\n",
      " For data/annotations/person_keypoints_train2014.json file\n",
      "\n",
      "\timages key has 82783 records, \n",
      "\t each with dict_keys(['license', 'file_name', 'coco_url', 'height', 'width', 'date_captured', 'flickr_url', 'id']) attributes\n",
      "\n",
      "\tannotations key has 185316 records, \n",
      "\t each with dict_keys(['segmentation', 'num_keypoints', 'area', 'iscrowd', 'keypoints', 'image_id', 'bbox', 'category_id', 'id']) attributes\n",
      "\n",
      " For data/annotations/person_keypoints_val2014.json file\n",
      "\n",
      "\timages key has 40504 records, \n",
      "\t each with dict_keys(['license', 'file_name', 'coco_url', 'height', 'width', 'date_captured', 'flickr_url', 'id']) attributes\n",
      "\n",
      "\tannotations key has 88153 records, \n",
      "\t each with dict_keys(['segmentation', 'num_keypoints', 'area', 'iscrowd', 'keypoints', 'image_id', 'bbox', 'category_id', 'id']) attributes\n",
      "\n",
      "About Training\n",
      "\t82586 images have 5 captions\n",
      "\t196 images have 6 captions\n",
      "\t1 images have 7 captions\n",
      "\n",
      "About Validation\n",
      "\t40373 images have 5 captions\n",
      "\t128 images have 6 captions\n",
      "\t3 images have 7 captions\n"
     ]
    },
    {
     "name": "stderr",
     "output_type": "stream",
     "text": [
      "C:\\Users\\ramur\\anaconda3\\envs\\tf\\lib\\site-packages\\ipykernel_launcher.py:51: TqdmDeprecationWarning: This function will be removed in tqdm==5.0.0\n",
      "Please use `tqdm.notebook.tqdm` instead of `tqdm.tqdm_notebook`\n"
     ]
    },
    {
     "data": {
      "application/vnd.jupyter.widget-view+json": {
       "model_id": "33e8c2e3ee87420daca09724ce5029a8",
       "version_major": 2,
       "version_minor": 0
      },
      "text/plain": [
       "  0%|          | 0/414113 [00:00<?, ?it/s]"
      ]
     },
     "metadata": {},
     "output_type": "display_data"
    },
    {
     "name": "stdout",
     "output_type": "stream",
     "text": [
      "Training\n",
      "Unique Words: 23130\n",
      "Max Number of Words in a Caption: 49\n",
      "Min Number of Words in a Caption: 5\n",
      "Average Number of Words in all captions: 10.458350740015407\n"
     ]
    },
    {
     "data": {
      "application/vnd.jupyter.widget-view+json": {
       "model_id": "1d5358459eef45fa9dbc837aac3c0dc2",
       "version_major": 2,
       "version_minor": 0
      },
      "text/plain": [
       "  0%|          | 0/202654 [00:00<?, ?it/s]"
      ]
     },
     "metadata": {},
     "output_type": "display_data"
    },
    {
     "name": "stdout",
     "output_type": "stream",
     "text": [
      "Validation\n",
      "Unique Words: 17350\n",
      "Max Number of Words in a Caption: 50\n",
      "Min Number of Words in a Caption: 6\n",
      "Average Number of Words in all captions: 10.452623683717075\n"
     ]
    },
    {
     "data": {
      "image/png": "[encoded data removed]",
      "text/plain": [
       "<Figure size 640x480 with 2 Axes>"
      ]
     },
     "metadata": {},
     "output_type": "display_data"
    },
    {
     "name": "stdout",
     "output_type": "stream",
     "text": [
      "\n",
      " Training \n",
      "             license        height         width             id\n",
      "count  82783.000000  82783.000000  82783.000000   82783.000000\n",
      "mean       2.818054    483.590206    578.045794  290998.758900\n",
      "std        1.511456     96.855347     92.020402  167952.307935\n",
      "min        1.000000     51.000000     59.000000       9.000000\n",
      "25%        1.000000    426.000000    500.000000  144726.000000\n",
      "50%        3.000000    480.000000    640.000000  291797.000000\n",
      "75%        4.000000    512.000000    640.000000  435936.500000\n",
      "max        7.000000    640.000000    640.000000  581921.000000\n",
      "\n",
      " Validation \n",
      "             license        height         width             id\n",
      "count  40504.000000  40504.000000  40504.000000   40504.000000\n",
      "mean       2.826536    485.069944    576.541477  290741.634086\n",
      "std        1.494372     97.766584     91.872464  168164.031110\n",
      "min        1.000000    111.000000    120.000000      42.000000\n",
      "25%        1.000000    426.000000    500.000000  145585.000000\n",
      "50%        3.000000    480.000000    640.000000  290980.000000\n",
      "75%        4.000000    531.000000    640.000000  436397.250000\n",
      "max        7.000000    640.000000    640.000000  581929.000000\n"
     ]
    },
    {
     "data": {
      "image/png": "[encoded data removed]",
      "text/plain": [
       "<Figure size 640x480 with 4 Axes>"
      ]
     },
     "metadata": {},
     "output_type": "display_data"
    },
    {
     "name": "stdout",
     "output_type": "stream",
     "text": [
      "Are the training images and annotations sets congruent? True\n",
      "Are the validation images and annotations sets congruent? True\n"
     ]
    }
   ],
   "source": [
    "# Explore folders within data/\n",
    "data = 'data/' \n",
    "folders = [''.join([data, folder]) for folder in os.listdir(data) if os.path.isdir(''.join([data, folder]))]\n",
    "for folder in folders:\n",
    "    files = os.listdir(folder)\n",
    "    print(f\"\\n The folder {folder} has {len(files)} files.\")\n",
    "    print(f\"\\t With file extesions: {set([os.path.splitext(file)[1] for file in files])}\")\n",
    "\n",
    "# Explore JSONs within annotations/\n",
    "annotations = ''.join([data, 'annotations/'])\n",
    "jsons = [''.join([annotations, js]) for js in os.listdir(annotations) if '.json' in js]\n",
    "\n",
    "for js in jsons:\n",
    "    with open(js, 'r') as rf:\n",
    "        d = json.load(rf)\n",
    "        \n",
    "    print(f'\\n For {js} file')\n",
    "    ks = ['images', 'annotations']\n",
    "    [print(f'\\n\\t{k} key has {len(d[k])} records, \\n\\t each with {d[k][0].keys()} attributes') for k in ks]\n",
    "    \n",
    "# Assign JSONs for further ETL:\n",
    "with open('data/annotations/captions_train2014.json', 'r') as rf:\n",
    "    tr_data = json.load(rf)\n",
    "    \n",
    "with open('data/annotations/captions_val2014.json', 'r') as rf:\n",
    "    v_data = json.load(rf)\n",
    "    \n",
    "# Harness Pandas for each dataset\n",
    "tr_caps = pd.DataFrame(tr_data['annotations'])\n",
    "v_caps = pd.DataFrame(v_data['annotations'])\n",
    "\n",
    "tr_imgs = pd.DataFrame(tr_data['images'])\n",
    "v_imgs = pd.DataFrame(v_data['images'])        \n",
    "\n",
    "# Assess number of captions per image\n",
    "print('\\nAbout Training')\n",
    "captions = pd.DataFrame(tr_caps['image_id'].value_counts())['image_id'].value_counts()\n",
    "[print(f'\\t{captions[i]} images have {i} captions') for i in captions.index]\n",
    "\n",
    "print('\\nAbout Validation')\n",
    "captions = pd.DataFrame(v_caps['image_id'].value_counts())['image_id'].value_counts()\n",
    "[print(f'\\t{captions[i]} images have {i} captions') for i in captions.index]\n",
    "\n",
    "# Exploreing Captions\n",
    "titles = [ 'Training', 'Validation']\n",
    "for i, caps in enumerate([tr_caps, v_caps]):\n",
    "    capExt = []# list to store all captions extensions: how many words p/ caption\n",
    "    corpus = ''# string to store every word in every caption\n",
    "    lc = caps['caption']\n",
    "    \n",
    "    for cap in tqdm(lc):\n",
    "        capExt.append(len(cap.split()))\n",
    "        corpus += ' ' + cap.lower() + ' '# convert to lowercase to decrease data latency\n",
    "        \n",
    "    corpus = re.split(r'\\W+', corpus)# remove punctuation marks\n",
    "    corpus = Counter(corpus)\n",
    "    \n",
    "    print(titles[i])\n",
    "    print(f'Unique Words: {len(corpus)}')\n",
    "    print(f'Max Number of Words in a Caption: {max(capExt)}')\n",
    "    print(f'Min Number of Words in a Caption: {min(capExt)}')\n",
    "    print(f'Average Number of Words in all captions: {np.mean(np.array(capExt))}')\n",
    "    plt.subplot(1, 2, i+1);\n",
    "    plt.hist(np.array(capExt));\n",
    "    plt.title(f'Words per Caption:\\n {titles[i]} Dist')\n",
    "plt.show();\n",
    "    \n",
    "    \n",
    "#Images descriptive statistics and distributions\n",
    "for i, imgs in enumerate([tr_imgs, v_imgs]):\n",
    "    print('\\n {} \\n'.format(titles[i]), imgs.describe())\n",
    "    \n",
    "    plt.subplot(2,2, 2*i+1);\n",
    "    plt.hist(imgs['height']);\n",
    "    plt.title(f'Height: {titles[i]}');\n",
    "    plt.subplot(2,2, 2*i+2);\n",
    "    plt.hist(imgs['width']);\n",
    "    plt.title(f'Width: {titles[i]}');\n",
    "plt.show();\n",
    "\n",
    "# ascertain file names are congruent with the databases. \n",
    "\n",
    "imgsTr = tr_imgs['file_name'].to_list()\n",
    "imgsV = v_imgs['file_name'].to_list()\n",
    "\n",
    "imgs_v = os.listdir('data/val2014/')\n",
    "imgs_tr = os.listdir('data/train2014/')\n",
    "\n",
    "print(f'Are the training images and annotations sets congruent? {set(imgsTr) == set(imgs_tr)}')\n",
    "print(f'Are the validation images and annotations sets congruent? {set(imgsV) == set(imgs_v)}')\n",
    "\n",
    "del imgsTr, imgsV, imgs_v, imgs_tr"
   ]
  },
  {
   "cell_type": "code",
   "execution_count": 7,
   "metadata": {},
   "outputs": [],
   "source": [
    "from IPython.core.interactiveshell import InteractiveShell # All outputs are displayed for every cell\n",
    "InteractiveShell.ast_node_interactivity = \"all\""
   ]
  },
  {
   "cell_type": "markdown",
   "metadata": {},
   "source": [
    "\n",
    "## Data transformation by dint of our preliminary model: Google's Inception V.3™\n",
    "\n",
    "### Training and Validation dictionaries structure: ``` {image_id: list(captions)} ```\n",
    "\n",
    "### Seize this process to transform captions into lowercase, erase punctuation marks and spaces on every string's ends.  \n",
    "\n",
    "### We find out that training and validation vocabulary has 4,189 words that are NOT shared. Going through a deeper processing, we can ameliorate this discrepancy. For instance, taking some percentage of the vocabulary with higher incidency or changing every word to its morphological root. Here, we'll get rid of all the words that appear only once on the Machine Learning Kernel. \n",
    "\n"
   ]
  },
  {
   "cell_type": "code",
   "execution_count": 8,
   "metadata": {},
   "outputs": [
    {
     "name": "stderr",
     "output_type": "stream",
     "text": [
      "C:\\Users\\ramur\\anaconda3\\envs\\tf\\lib\\site-packages\\ipykernel_launcher.py:7: TqdmDeprecationWarning: This function will be removed in tqdm==5.0.0\n",
      "Please use `tqdm.notebook.tqdm` instead of `tqdm.tqdm_notebook`\n",
      "  import sys\n"
     ]
    },
    {
     "data": {
      "application/vnd.jupyter.widget-view+json": {
       "model_id": "a097079ae9854c4cb4ef19502688adb1",
       "version_major": 2,
       "version_minor": 0
      },
      "text/plain": [
       "  0%|          | 0/414113 [00:00<?, ?it/s]"
      ]
     },
     "metadata": {},
     "output_type": "display_data"
    },
    {
     "data": {
      "application/vnd.jupyter.widget-view+json": {
       "model_id": "d9be8b7fd87d4869a838b7b247bb1d40",
       "version_major": 2,
       "version_minor": 0
      },
      "text/plain": [
       "  0%|          | 0/202654 [00:00<?, ?it/s]"
      ]
     },
     "metadata": {},
     "output_type": "display_data"
    },
    {
     "data": {
      "text/plain": [
       "82783"
      ]
     },
     "execution_count": 8,
     "metadata": {},
     "output_type": "execute_result"
    },
    {
     "data": {
      "text/plain": [
       "40504"
      ]
     },
     "execution_count": 8,
     "metadata": {},
     "output_type": "execute_result"
    }
   ],
   "source": [
    "# create dictionaries and preprocess captions\n",
    "\n",
    "tr_captions, v_captions = dict(), dict()\n",
    "\n",
    "for dic, caps in zip([tr_captions, v_captions], [tr_caps, v_caps]):\n",
    "    ids_ = caps['image_id']\n",
    "    for id_ in tqdm(ids_):\n",
    "        lc = caps.loc[caps['image_id'] == id_, 'caption'].to_list()\n",
    "        id_ = str(id_)\n",
    "        while len(id_) < 12:\n",
    "            id_ = '0'+id_\n",
    "        dic[id_] = [' '.join(re.split(r'\\W+', c.lower())).strip() for c in lc]\n",
    "\n",
    "len(tr_captions)\n",
    "len(v_captions)"
   ]
  },
  {
   "cell_type": "code",
   "execution_count": 9,
   "metadata": {},
   "outputs": [],
   "source": [
    "InteractiveShell.ast_node_interactivity = \"last\"# all o none"
   ]
  },
  {
   "cell_type": "code",
   "execution_count": 10,
   "metadata": {},
   "outputs": [
    {
     "name": "stdout",
     "output_type": "stream",
     "text": [
      "Tr:  23129 Val:  17349\n",
      "Number of Words Not Shared Among Training and Validation Datasets: 4189\n",
      "Total words: 27318\n"
     ]
    }
   ],
   "source": [
    "# Assess if vocabulary ovelaps between Training and Validation data\n",
    "\n",
    "voc_tr, voc_v = set(), set()\n",
    "\n",
    "for dic, voc in zip([tr_captions, v_captions],[voc_tr, voc_v]):\n",
    "    for k in dic.keys():\n",
    "        [voc.update(cap.split()) for cap in dic[k]]\n",
    "\n",
    "print('Tr: ', len(voc_tr), 'Val: ', len(voc_v))\n",
    "\n",
    "\n",
    "n_voc = list(voc_v - voc_tr)\n",
    "        \n",
    "print('Number of Words Not Shared Among Training and Validation Datasets:', len(n_voc))\n",
    "voc = voc_tr.union(voc_v)\n",
    "print('Total words:', len(voc))"
   ]
  },
  {
   "cell_type": "code",
   "execution_count": 11,
   "metadata": {},
   "outputs": [
    {
     "data": {
      "text/plain": [
       "13261316"
      ]
     },
     "execution_count": 11,
     "metadata": {},
     "output_type": "execute_result"
    }
   ],
   "source": [
    "# Write Caption Files for ML\n",
    "\n",
    "lines = list()\n",
    "for k, caps in tr_captions.items():\n",
    "    [lines.append(k + ' ' + cap) for cap in caps]\n",
    "    \n",
    "con = '\\n'.join(lines)\n",
    "with open('data/tr_captions.txt', 'w') as file:\n",
    "    file.write(con)\n",
    "\n",
    "lines = list()\n",
    "for k, caps in v_captions.items():\n",
    "    [lines.append(k + ' ' + cap) for cap in caps]\n",
    "    \n",
    "con = '\\n'.join(lines)\n",
    "with open('data/v_captions.txt', 'w') as file:\n",
    "    file.write(con)"
   ]
  },
  {
   "cell_type": "markdown",
   "metadata": {},
   "source": [
    "### The model's performance will be determined by several factor. One with which you can play is the size of the corpus. There are words that only appear once; therefore, it's reasonable to neglect them for these examples will overfit in spirit of unlikely occurences. Next I share a provisional code for corpus reduction based on a percentage you'd like to keep. \n",
    "```python\n",
    "# provisional code for vocabulary reduction according to an outlier theshold percentage(outlier_th)\n",
    "voc_tr, voc_v = '', ''\n",
    "\n",
    "for k, caps in tr_captions.items():\n",
    "    voc_tr += ' ' + ' '.join(caps) + ' '\n",
    "\n",
    "for k, caps in v_captions.items():\n",
    "    voc_v += ' ' + ' '.join(caps)\n",
    "\n",
    "voc_tr, voc_v = Counter(voc_tr.split()).most_common(), Counter(voc_v.split()).most_common()\n",
    "\n",
    "outlier_th = .99\n",
    "\n",
    "t_tr, t_v = 0, 0\n",
    "for _, c in voc_tr:\n",
    "    t_tr += c\n",
    "\n",
    "for _, c in voc_v:\n",
    "    t_v += c\n",
    "\n",
    "bag_por = 0\n",
    "n_W = 0\n",
    "new_voc_tr, new_voc_v = [], []\n",
    "\n",
    "for w,c in voc_tr:\n",
    "    if bag_por <= outlier_th:\n",
    "        n_W += c\n",
    "        bag_por = n_W/t_tr\n",
    "        new_voc_tr.append(w)\n",
    "    else:\n",
    "        break\n",
    "        \n",
    "bag_por = 0\n",
    "n_W = 0\n",
    "\n",
    "for w,c in voc_v:\n",
    "    if bag_por <= outlier_th:\n",
    "        n_W += c\n",
    "        bag_por = n_W/t_v\n",
    "        new_voc_v.append(w)\n",
    "    else:\n",
    "        break\n",
    "        \n",
    "print('New Tr: ', len(new_voc_tr), 'New Val: ', len(new_voc_v))\n",
    "\n",
    "\n",
    "new_n_voc = list(set(new_voc_v) - set(new_voc_tr))\n",
    "        \n",
    "print('Number of Words Not Shared Among Training and Validation New Datasets:', len(new_n_voc))\n",
    "new_voc = set(new_voc_tr).union(set(new_voc_v))\n",
    "print('New Total words:', len(new_voc))\n",
    "\n",
    "```"
   ]
  },
  {
   "cell_type": "markdown",
   "metadata": {},
   "source": [
    "### The following processes concern the facts that this is meant to be run locally, the datasets are relatively massive and we want to use the Google's imagenet model, Inception V3. \n",
    "\n",
    "### The model will be explained in the Machine Learning kernel, however, some key features for this part are the following:\n",
    "\n",
    "* #### for the input, pictures should have 299 x 299 pixels\n",
    "* #### we'll get rid of the last layer so that we can connect it to the NLP layers\n",
    "\n",
    "### The datasets will be serialized using a GPU, but this can be done as well with a CPU. Serializing the datasets will make them more portable, easy to feed to the learning stage and less sensitive to data loss. \n",
    "\n",
    "### Both training and validation sets will be posited in Pickle files as feature vectors \n",
    "\n",
    "### Run the script in terminal so that you can keep using the notebook: \n",
    "### ```python scripts/datasets_to_pickles.py```"
   ]
  },
  {
   "cell_type": "code",
   "execution_count": 12,
   "metadata": {},
   "outputs": [
    {
     "name": "stdout",
     "output_type": "stream",
     "text": [
      "Overwriting scripts/datasets_to_pickles.py\n"
     ]
    }
   ],
   "source": [
    "%%writefile scripts/datasets_to_pickles.py\n",
    "from PIL import Image\n",
    "import pickle\n",
    "import os\n",
    "from tqdm import tqdm_notebook as tqdm\n",
    "import numpy as np\n",
    "from numba import cuda\n",
    "\n",
    "import tensorflow as tf\n",
    "from tensorflow import keras\n",
    "physical_devices = tf.config.list_physical_devices('GPU') \n",
    "tf.test.is_built_with_cuda()\n",
    "print(f'Using GPU: {tf.test.is_gpu_available(cuda_only=False, min_cuda_compute_capability=None)}')\n",
    "\n",
    "# Create a new model, by removing the last layer (output layer) from the inception v3\n",
    "model = tf.keras.applications.inception_v3.InceptionV3(weights='imagenet')\n",
    "model_new = keras.Model(model.input, model.layers[-2].output)\n",
    "\n",
    "def preprocess(image_path):\n",
    "    # Convert all the images to size 299x299 as expected by the inception v3 model\n",
    "    img = keras.preprocessing.image.load_img(image_path, target_size=(299, 299))\n",
    "    # Convert PIL image to numpy array of 3-dimensions\n",
    "    x = keras.preprocessing.image.img_to_array(img)\n",
    "    # Add one more dimension\n",
    "    x = np.expand_dims(x, axis=0)\n",
    "    # preprocess the images using preprocess_input() from inception module\n",
    "    x = keras.applications.inception_v3.preprocess_input(x)\n",
    "    return x\n",
    "\n",
    "# Function to encode a given image into a vector of size (2048, )\n",
    "def encode(image):\n",
    "    image = preprocess(image) # preprocess the image\n",
    "    fea_vec = model_new.predict(image) # Get the encoding vector for the image\n",
    "    fea_vec = np.reshape(fea_vec, fea_vec.shape[1]) # reshape from (1, 2048) to (2048, )\n",
    "    return fea_vec\n",
    "\n",
    "if __name__ == '__main__':\n",
    "    data = \"data/\"\n",
    "    pickles = [\"encoded_train_images.pkl\", \"encoded_test_images.pkl\"]\n",
    "    folders = [\"train2014/\", \"val2014/\"]\n",
    "    for folder, pick in zip(folders, pickles):\n",
    "        print(f'working on a pickle about {folder}')\n",
    "        folder = ''.join([data, folder])\n",
    "        pick = ''.join([data, pick])\n",
    "        if not os.path.isfile(pick):\n",
    "            dataset = [''.join([folder, file]) for file in os.listdir(folder)]\n",
    "\n",
    "            encoding = {}\n",
    "            for img in tqdm(dataset):\n",
    "                encoding[img.replace(folder,'')] = encode(img)\n",
    "\n",
    "            # Save the bottleneck train features to disk\n",
    "            with open(pick, \"wb\") as encoded_pickle:\n",
    "                pickle.dump(encoding, encoded_pickle)\n",
    "            \n",
    "        print(f'{folder} has been serialized inside {pick}')\n",
    "        dataset_features = pickle.load(open(pick, \"rb\"))\n",
    "        print(f'Photos {folder}: {len(dataset_features)}')\n",
    "        # # clear GPU memory if needed\n",
    "        # del dataset_features\n",
    "        # device = cuda.get_current_device()\n",
    "        # device.reset()\n",
    "        \n",
    "        "
   ]
  },
  {
   "cell_type": "code",
   "execution_count": 13,
   "metadata": {},
   "outputs": [],
   "source": [
    "# run in terminal\n",
    "# !python scripts/datasets_to_pickles.py"
   ]
  },
  {
   "cell_type": "code",
   "execution_count": null,
   "metadata": {},
   "outputs": [],
   "source": [
    "\n"
   ]
  }
 ],
 "metadata": {
  "interpreter": {
   "hash": "b82966cb412374646c94b2ad3d591a1f1897291d204baf4f6ad4618e57757e13"
  },
  "kernelspec": {
   "display_name": "Python 3",
   "language": "python",
   "name": "python3"
  },
  "language_info": {
   "codemirror_mode": {
    "name": "ipython",
    "version": 3
   },
   "file_extension": ".py",
   "mimetype": "text/x-python",
   "name": "python",
   "nbconvert_exporter": "python",
   "pygments_lexer": "ipython3",
   "version": "3.7.11"
  }
 },
 "nbformat": 4,
 "nbformat_minor": 2
}
